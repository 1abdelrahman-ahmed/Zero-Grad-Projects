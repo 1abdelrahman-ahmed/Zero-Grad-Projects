{
  "nbformat": 4,
  "nbformat_minor": 0,
  "metadata": {
    "colab": {
      "provenance": []
    },
    "kernelspec": {
      "name": "python3",
      "display_name": "Python 3"
    },
    "language_info": {
      "name": "python"
    }
  },
  "cells": [
    {
      "cell_type": "markdown",
      "source": [
        "# Tic Tac Toe Project Description"
      ],
      "metadata": {
        "id": "PhpgbWHJhJOW"
      }
    },
    {
      "cell_type": "markdown",
      "source": [
        " **`(1) Create Empty board (3x3):`**\n",
        "\n",
        "  `1  2  3`\n",
        "\n",
        "  `4 5 6`\n",
        "\n",
        "  `7 8 9`\n",
        "\n",
        " **`(2) Show Board`**\n",
        "\n",
        " **`(3) Set Players Randomly ('X', 'O')`**\n",
        "\n",
        " **`(4) Take Input from Player`**\n",
        "\n",
        " **`(5) Check Full Board >> Draw`**\n",
        "\n",
        " **`(6) Check if Someone wins >> Finish`**"
      ],
      "metadata": {
        "id": "9XJyp9xehPBl"
      }
    },
    {
      "cell_type": "markdown",
      "source": [
        "# Template"
      ],
      "metadata": {
        "id": "m2nflmTioFy_"
      }
    },
    {
      "cell_type": "markdown",
      "source": [
        "## Empty Board"
      ],
      "metadata": {
        "id": "GsE-z7Son-xm"
      }
    },
    {
      "cell_type": "code",
      "source": [
        "def create_empty_board():\n",
        "  board = [[1, 2, 3],\n",
        "           [4, 5, 6],\n",
        "           [7, 8, 9]]\n",
        "  for row in board:\n",
        "    for col in row:\n",
        "      print(col, end='\\t')\n",
        "    print('\\n')"
      ],
      "metadata": {
        "id": "YueCJNtPnndY"
      },
      "execution_count": null,
      "outputs": []
    },
    {
      "cell_type": "code",
      "source": [
        "create_empty_board()"
      ],
      "metadata": {
        "colab": {
          "base_uri": "https://localhost:8080/"
        },
        "id": "RMlzPMyHRIq7",
        "outputId": "a5354ac0-5798-4e09-e16b-aace3c94e397"
      },
      "execution_count": null,
      "outputs": [
        {
          "output_type": "stream",
          "name": "stdout",
          "text": [
            "1\t2\t3\t\n",
            "\n",
            "4\t5\t6\t\n",
            "\n",
            "7\t8\t9\t\n",
            "\n"
          ]
        }
      ]
    },
    {
      "cell_type": "markdown",
      "source": [
        "## Show Board"
      ],
      "metadata": {
        "id": "qjKBWyq4f3Fr"
      }
    },
    {
      "cell_type": "code",
      "source": [
        "def show_board(board):\n",
        "  for col in board:\n",
        "    for row in col:\n",
        "      print(row, end='\\t')\n",
        "    print('\\n')"
      ],
      "metadata": {
        "id": "Bn6VqZo_Xze5"
      },
      "execution_count": null,
      "outputs": []
    },
    {
      "cell_type": "code",
      "source": [
        "board = [[1,2,3],[4,'X',6],[7,8,9]]\n",
        "show_board(board)"
      ],
      "metadata": {
        "colab": {
          "base_uri": "https://localhost:8080/"
        },
        "id": "Z7lIOpFfX3dU",
        "outputId": "3e078dc4-838a-4d4e-af5a-cdbb0f00d87f"
      },
      "execution_count": null,
      "outputs": [
        {
          "output_type": "stream",
          "name": "stdout",
          "text": [
            "1\t2\t3\t\n",
            "\n",
            "4\tX\t6\t\n",
            "\n",
            "7\t8\t9\t\n",
            "\n"
          ]
        }
      ]
    },
    {
      "cell_type": "markdown",
      "source": [
        "## Set Players"
      ],
      "metadata": {
        "id": "ZaIwkooboJ5p"
      }
    },
    {
      "cell_type": "code",
      "source": [
        "import random\n",
        "def set_players():\n",
        "  players = ['X', 'O']\n",
        "  p1 = random.randint(0, 1)\n",
        "  p2 = p1 - 1\n",
        "  return players[p1], players[p2]"
      ],
      "metadata": {
        "id": "we7UkC6AhFwy"
      },
      "execution_count": null,
      "outputs": []
    },
    {
      "cell_type": "code",
      "source": [
        "set_players()"
      ],
      "metadata": {
        "colab": {
          "base_uri": "https://localhost:8080/"
        },
        "id": "3A_FDAHLWxNF",
        "outputId": "0031ac29-2dcc-4ce9-fae5-22267706b86a"
      },
      "execution_count": null,
      "outputs": [
        {
          "output_type": "execute_result",
          "data": {
            "text/plain": [
              "('X', 'O')"
            ]
          },
          "metadata": {},
          "execution_count": 10
        }
      ]
    },
    {
      "cell_type": "markdown",
      "source": [
        "## Take Input"
      ],
      "metadata": {
        "id": "VNl11PuZgDjc"
      }
    },
    {
      "cell_type": "code",
      "source": [
        "def take_input(board, player):\n",
        "  while True:\n",
        "    x = input('➤ Enter a number (1-9) for an empty cell: ')\n",
        "    if (not x.isdigit()) or (int(x) < 1) or (int(x) > 9):\n",
        "      print('❌ Invalid input! Please enter a number (1-9).')\n",
        "      continue\n",
        "    x = int(x)\n",
        "    x -= 1\n",
        "    row = x // 3\n",
        "    col = x % 3\n",
        "    if not board[row][col].isdigit():\n",
        "      print('❌ This cell is already taken! Try again.')\n",
        "      continue\n",
        "    board[row][col] = player\n",
        "    show_board(board)\n",
        "    return"
      ],
      "metadata": {
        "id": "pZAd299MY2fw"
      },
      "execution_count": null,
      "outputs": []
    },
    {
      "cell_type": "code",
      "source": [
        "board = [['1','2','3'],['4','X','6'],['7','8','9']]\n",
        "player ='O'\n",
        "player_input = '8'\n",
        "take_input(board, player)\n"
      ],
      "metadata": {
        "colab": {
          "base_uri": "https://localhost:8080/"
        },
        "id": "bH2UI4GEcAVp",
        "outputId": "f7f673bb-9ea3-4f87-9cac-d5849b2806e3"
      },
      "execution_count": null,
      "outputs": [
        {
          "output_type": "stream",
          "name": "stdout",
          "text": [
            "➤ Enter a number (1-9) for an empty cell: 1\n",
            "O\t2\t3\t\n",
            "\n",
            "4\tX\t6\t\n",
            "\n",
            "7\t8\t9\t\n",
            "\n"
          ]
        }
      ]
    },
    {
      "cell_type": "markdown",
      "source": [
        "## Check Full Board"
      ],
      "metadata": {
        "id": "mgCFF48jgVq7"
      }
    },
    {
      "cell_type": "code",
      "source": [
        "def check_full_board(board):\n",
        "  for row in board:\n",
        "    for col in row:\n",
        "      if col.isdigit():\n",
        "        return False\n",
        "  return True"
      ],
      "metadata": {
        "id": "obxUdjg_ThZi"
      },
      "execution_count": null,
      "outputs": []
    },
    {
      "cell_type": "code",
      "source": [
        "board = [['o','x','x'],['o','X','o'],['x','o','x']]\n",
        "check_full_board(board)"
      ],
      "metadata": {
        "colab": {
          "base_uri": "https://localhost:8080/"
        },
        "id": "TcLZt1PqS_9i",
        "outputId": "20d7246a-8bc4-4b2c-ce2c-9d5b8b5f5de8"
      },
      "execution_count": null,
      "outputs": [
        {
          "output_type": "execute_result",
          "data": {
            "text/plain": [
              "True"
            ]
          },
          "metadata": {},
          "execution_count": 24
        }
      ]
    },
    {
      "cell_type": "code",
      "source": [
        "board = [['o','x','x'],['4','X','o'],['x','o','x']]\n",
        "check_full_board(board)"
      ],
      "metadata": {
        "colab": {
          "base_uri": "https://localhost:8080/"
        },
        "id": "s475eihMkEqL",
        "outputId": "a814ca4f-5a44-45a1-935b-3cbc3f22efcd"
      },
      "execution_count": null,
      "outputs": [
        {
          "output_type": "execute_result",
          "data": {
            "text/plain": [
              "False"
            ]
          },
          "metadata": {},
          "execution_count": 25
        }
      ]
    },
    {
      "cell_type": "markdown",
      "source": [
        "## Check Win\n"
      ],
      "metadata": {
        "id": "OjfyXPCeoQM4"
      }
    },
    {
      "cell_type": "code",
      "source": [
        "def check_win(board):\n",
        "  for row in board:\n",
        "    st = set()\n",
        "    for col in row:\n",
        "      st.add(col)\n",
        "    if len(st) == 1:\n",
        "      return True\n",
        "  d1 = set()\n",
        "  d2 = set()\n",
        "  for col in range(0, 3):\n",
        "    st = set()\n",
        "    for row in range(0, 3):\n",
        "      st.add(board[row][col])\n",
        "      if row == col:\n",
        "        d1.add(board[row][row])\n",
        "        d2.add(board[2-row][row])\n",
        "    if len(st) == 1:\n",
        "      return True\n",
        "  return len(d1) == 1 or len(d2) == 1"
      ],
      "metadata": {
        "id": "NTxJ1qsJmhoG"
      },
      "execution_count": null,
      "outputs": []
    },
    {
      "cell_type": "code",
      "source": [
        "board = [['o','x','x'],['o','o','x'],['x','o','x']]\n",
        "show_board(board)\n",
        "check_win(board)"
      ],
      "metadata": {
        "colab": {
          "base_uri": "https://localhost:8080/"
        },
        "id": "E-mETiZEfZqp",
        "outputId": "dbadd402-8cbb-4c02-f004-c166fbd81652"
      },
      "execution_count": null,
      "outputs": [
        {
          "output_type": "stream",
          "name": "stdout",
          "text": [
            "o\tx\tx\t\n",
            "\n",
            "o\to\tx\t\n",
            "\n",
            "x\to\tx\t\n",
            "\n"
          ]
        },
        {
          "output_type": "execute_result",
          "data": {
            "text/plain": [
              "True"
            ]
          },
          "metadata": {},
          "execution_count": 66
        }
      ]
    },
    {
      "cell_type": "code",
      "source": [
        "board = [['o','x','o'],['o','o','x'],['x','o','x']]\n",
        "show_board(board)\n",
        "check_win(board)"
      ],
      "metadata": {
        "colab": {
          "base_uri": "https://localhost:8080/"
        },
        "id": "CmlQlsjZkIut",
        "outputId": "77938b87-6b49-4037-9425-eff518ff6425"
      },
      "execution_count": null,
      "outputs": [
        {
          "output_type": "stream",
          "name": "stdout",
          "text": [
            "o\tx\to\t\n",
            "\n",
            "o\to\tx\t\n",
            "\n",
            "x\to\tx\t\n",
            "\n"
          ]
        },
        {
          "output_type": "execute_result",
          "data": {
            "text/plain": [
              "False"
            ]
          },
          "metadata": {},
          "execution_count": 45
        }
      ]
    },
    {
      "cell_type": "markdown",
      "source": [
        "## Let's Play"
      ],
      "metadata": {
        "id": "uI9u-XGV2S7P"
      }
    },
    {
      "cell_type": "code",
      "source": [
        "def play():\n",
        "  player1, player2 = set_players()\n",
        "  print(f'''\n",
        "🎮 Welcome to Tic-Tac-Toe! 🎲\n",
        "   ➤ Player 1: {player1}\n",
        "   ➤ Player 2: {player2}\n",
        "🔥 Get ready for the challenge! 💪\n",
        "''')\n",
        "  board = [['1', '2', '3'], ['4', '5', '6'], ['7', '8', '9']]\n",
        "  show_board(board)\n",
        "  players = [player1, player2]\n",
        "  for i in range(9):\n",
        "    idx = i % 2\n",
        "    player = players[idx]\n",
        "    print(f'🎮 Player {idx+1}\\'s turn ({player})')\n",
        "    take_input(board, player)\n",
        "    if check_win(board):\n",
        "      print(f'🎉 Congratulations! Player {idx+1} ({player}) wins! 🏆')\n",
        "      return\n",
        "    if check_full_board(board):\n",
        "      print('😔 It\\'s a draw! No winner this time.')\n",
        "      return"
      ],
      "metadata": {
        "id": "4nIAPOhSpksM"
      },
      "execution_count": null,
      "outputs": []
    },
    {
      "cell_type": "code",
      "source": [
        "play()"
      ],
      "metadata": {
        "colab": {
          "base_uri": "https://localhost:8080/"
        },
        "id": "7m9ENdZp1Ffg",
        "outputId": "2f8320a1-08c4-4620-9314-3777cc8cb978"
      },
      "execution_count": null,
      "outputs": [
        {
          "output_type": "stream",
          "name": "stdout",
          "text": [
            "\n",
            "🎮 Welcome to Tic-Tac-Toe! 🎲\n",
            "   ➤ Player 1: O\n",
            "   ➤ Player 2: X\n",
            "🔥 Get ready for the challenge! 💪\n",
            "\n",
            "1\t2\t3\t\n",
            "\n",
            "4\t5\t6\t\n",
            "\n",
            "7\t8\t9\t\n",
            "\n",
            "🎮 Player 1's turn (O)\n",
            "➤ Enter a number (1-9) for an empty cell: 1\n",
            "O\t2\t3\t\n",
            "\n",
            "4\t5\t6\t\n",
            "\n",
            "7\t8\t9\t\n",
            "\n",
            "🎮 Player 2's turn (X)\n",
            "➤ Enter a number (1-9) for an empty cell: 2\n",
            "O\tX\t3\t\n",
            "\n",
            "4\t5\t6\t\n",
            "\n",
            "7\t8\t9\t\n",
            "\n",
            "🎮 Player 1's turn (O)\n",
            "➤ Enter a number (1-9) for an empty cell: 2\n",
            "❌ This cell is already taken! Try again.\n",
            "➤ Enter a number (1-9) for an empty cell: 3\n",
            "O\tX\tO\t\n",
            "\n",
            "4\t5\t6\t\n",
            "\n",
            "7\t8\t9\t\n",
            "\n",
            "🎮 Player 2's turn (X)\n",
            "➤ Enter a number (1-9) for an empty cell: 10\n",
            "❌ Invalid input! Please enter a number (1-9).\n",
            "➤ Enter a number (1-9) for an empty cell: 0\n",
            "❌ Invalid input! Please enter a number (1-9).\n",
            "➤ Enter a number (1-9) for an empty cell: 5\n",
            "O\tX\tO\t\n",
            "\n",
            "4\tX\t6\t\n",
            "\n",
            "7\t8\t9\t\n",
            "\n",
            "🎮 Player 1's turn (O)\n",
            "➤ Enter a number (1-9) for an empty cell: 6\n",
            "O\tX\tO\t\n",
            "\n",
            "4\tX\tO\t\n",
            "\n",
            "7\t8\t9\t\n",
            "\n",
            "🎮 Player 2's turn (X)\n",
            "➤ Enter a number (1-9) for an empty cell: 8\n",
            "O\tX\tO\t\n",
            "\n",
            "4\tX\tO\t\n",
            "\n",
            "7\tX\t9\t\n",
            "\n",
            "🎉 Congratulations! Player 2 (X) wins! 🏆\n"
          ]
        }
      ]
    },
    {
      "cell_type": "code",
      "source": [],
      "metadata": {
        "id": "O911u9mL3Akr"
      },
      "execution_count": null,
      "outputs": []
    }
  ]
}