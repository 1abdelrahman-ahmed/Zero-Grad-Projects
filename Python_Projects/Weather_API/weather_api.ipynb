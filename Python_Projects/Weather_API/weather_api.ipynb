{
  "nbformat": 4,
  "nbformat_minor": 0,
  "metadata": {
    "colab": {
      "provenance": []
    },
    "kernelspec": {
      "name": "python3",
      "display_name": "Python 3"
    },
    "language_info": {
      "name": "python"
    }
  },
  "cells": [
    {
      "cell_type": "code",
      "execution_count": 56,
      "metadata": {
        "id": "_WOmQ_u8OyIT"
      },
      "outputs": [],
      "source": [
        "import requests"
      ]
    },
    {
      "cell_type": "code",
      "source": [
        "def display_weather(data_dic):\n",
        "    print(\"\\n\" + \"=\" * 25)\n",
        "    for key, value in data_dic.items():\n",
        "        print(f\"{key.title():<15}: {value}\")\n",
        "    print(\"=\" * 25 + \"\\n\")"
      ],
      "metadata": {
        "id": "AF91wON7Ux6U"
      },
      "execution_count": 57,
      "outputs": []
    },
    {
      "cell_type": "code",
      "source": [
        "def get_weather_data(city):\n",
        "    my_key = '2e5256639905e8614ccd1c761d197435'\n",
        "    url = f'https://api.openweathermap.org/data/2.5/weather?q={city}&units=metric&appid={my_key}'\n",
        "    response = requests.get(url)\n",
        "    data = response.json()\n",
        "    if data['cod'] != 200:\n",
        "        print(\"\\n\" + \"!\" * 25)\n",
        "        print(f\"Error: City '{city}' not found!\")\n",
        "        print(\"!\" * 25 + \"\\n\")\n",
        "        return None\n",
        "    else:\n",
        "        print(\"\\n\" + \"#\" * 25)\n",
        "        print(f\"## Weather in {data['name']} ##\")\n",
        "        print(\"#\" * 25)\n",
        "        display_weather(data['main'])\n",
        "        return data['main']"
      ],
      "metadata": {
        "id": "C2-x3o0qO8gh"
      },
      "execution_count": 58,
      "outputs": []
    },
    {
      "cell_type": "code",
      "source": [
        "get_weather_data('Cairo')"
      ],
      "metadata": {
        "colab": {
          "base_uri": "https://localhost:8080/"
        },
        "id": "up5wmUzVRy3X",
        "outputId": "11e9cb63-4a19-4b4c-8c88-d124b72e35ad"
      },
      "execution_count": 59,
      "outputs": [
        {
          "output_type": "stream",
          "name": "stdout",
          "text": [
            "\n",
            "#########################\n",
            "## Weather in Cairo ##\n",
            "#########################\n",
            "\n",
            "=========================\n",
            "Temp           : 30.42\n",
            "Feels_Like     : 34.1\n",
            "Temp_Min       : 30.23\n",
            "Temp_Max       : 30.42\n",
            "Pressure       : 1004\n",
            "Humidity       : 62\n",
            "Sea_Level      : 1004\n",
            "Grnd_Level     : 999\n",
            "=========================\n",
            "\n"
          ]
        },
        {
          "output_type": "execute_result",
          "data": {
            "text/plain": [
              "{'temp': 30.42,\n",
              " 'feels_like': 34.1,\n",
              " 'temp_min': 30.23,\n",
              " 'temp_max': 30.42,\n",
              " 'pressure': 1004,\n",
              " 'humidity': 62,\n",
              " 'sea_level': 1004,\n",
              " 'grnd_level': 999}"
            ]
          },
          "metadata": {},
          "execution_count": 59
        }
      ]
    },
    {
      "cell_type": "code",
      "source": [
        "def main():\n",
        "    print(\"\\n\" + \"=\" * 25)\n",
        "    print(\" \" * 4 + \"## Weather App ##\")\n",
        "    print(\"=\" * 25)\n",
        "    city = input(\"\\nEnter a city name: \")\n",
        "    get_weather_data(city)"
      ],
      "metadata": {
        "id": "JfQ-op3LToE0"
      },
      "execution_count": 60,
      "outputs": []
    },
    {
      "cell_type": "code",
      "source": [
        "main()"
      ],
      "metadata": {
        "colab": {
          "base_uri": "https://localhost:8080/"
        },
        "id": "GbnITOXcVLIw",
        "outputId": "c6b068fc-8478-47bf-af4a-f13e61bdcb6c"
      },
      "execution_count": 61,
      "outputs": [
        {
          "output_type": "stream",
          "name": "stdout",
          "text": [
            "\n",
            "=========================\n",
            "    ## Weather App ##\n",
            "=========================\n",
            "\n",
            "Enter a city name: Zagazig\n",
            "\n",
            "#########################\n",
            "## Weather in Zagazig ##\n",
            "#########################\n",
            "\n",
            "=========================\n",
            "Temp           : 29.68\n",
            "Feels_Like     : 33\n",
            "Temp_Min       : 29.68\n",
            "Temp_Max       : 29.68\n",
            "Pressure       : 1004\n",
            "Humidity       : 64\n",
            "Sea_Level      : 1004\n",
            "Grnd_Level     : 1003\n",
            "=========================\n",
            "\n"
          ]
        }
      ]
    },
    {
      "cell_type": "code",
      "source": [],
      "metadata": {
        "id": "YH_uYANbWYYN"
      },
      "execution_count": null,
      "outputs": []
    }
  ]
}