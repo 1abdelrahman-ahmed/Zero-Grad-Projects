{
  "cells": [
    {
      "cell_type": "markdown",
      "metadata": {
        "id": "L5OhCcbX0WWH"
      },
      "source": [
        "\n",
        "## Word Guessing Game Project\n",
        "\n",
        "### Description:\n",
        "Create a Python program that simulates a word guessing game with a limited number of trials.\n",
        "\n",
        "### Objectives:\n",
        "- Randomly select a word from a list.\n",
        "- Display the word with guessed letters revealed and unguessed letters as dots.\n",
        "- Allow the user to guess one letter at a time.\n",
        "- Limit the number of incorrect guesses the user can make.\n",
        "- Notify the user if their guess is correct or incorrect.\n",
        "- End the game when the word is fully guessed or when the user runs out of trials.\n",
        "- Display a congratulatory message if the word is guessed correctly or a game over message if the trials are exhausted.\n",
        "\n",
        "### Features:\n",
        "- **Random Word Selection:**\n",
        "  - The program will randomly choose a word from a predefined list of words.\n",
        "- **Word Display:**\n",
        "  - The program will show the word with guessed letters revealed and the remaining letters as dots (e.g., \"p.y.h.n\").\n",
        "- **User Input:**\n",
        "  - The user will be prompted to enter a single letter in each attempt.\n",
        "- **Guess Validation:**\n",
        "  - The program will validate the user's input to ensure it is a single alphabetic character.\n",
        "  - If the user guesses a letter that has already been guessed, they will be notified and asked to try another letter.\n",
        "- **Tracking Trials:**\n",
        "  - The program will keep count of how many incorrect guesses the user has made.\n",
        "  - The game will end if the user reaches the maximum number of allowed incorrect guesses.\n",
        "- **Feedback:**\n",
        "  - The user will be informed if their guess is correct or incorrect.\n",
        "- **Game Completion:**\n",
        "  - The game continues until the user successfully guesses all the letters in the word or exhausts the allowed number of incorrect guesses.\n",
        "  - Once the word is fully guessed, the program will congratulate the user.\n",
        "  - If the user runs out of trials, the program will display a game over message with the correct word.\n",
        "\n"
      ]
    },
    {
      "cell_type": "markdown",
      "metadata": {
        "id": "tAY8xiOM1GUu"
      },
      "source": [
        "# Template of Solution"
      ]
    },
    {
      "cell_type": "markdown",
      "metadata": {
        "id": "8XXuy1PR1MYV"
      },
      "source": [
        "## Random Word Selection"
      ]
    },
    {
      "cell_type": "code",
      "execution_count": null,
      "metadata": {
        "id": "ZSdXAwWw7po0"
      },
      "outputs": [],
      "source": [
        "import random\n",
        "import time\n",
        "allowed_tries = 0"
      ]
    },
    {
      "cell_type": "code",
      "execution_count": null,
      "metadata": {
        "id": "2IDKsBLJ1X4W"
      },
      "outputs": [],
      "source": [
        "def choose_word():\n",
        "  word_topics = {\n",
        "    \"fruits\": [\"apple\", \"banana\", \"orange\", \"grape\", \"mango\", \"peach\", \"kiwi\", \"strawberry\"],\n",
        "    \"animals\": [\"lion\", \"elephant\", \"tiger\", \"giraffe\", \"zebra\", \"monkey\", \"kangaroo\", \"panda\"],\n",
        "    \"colors\": [\"red\", \"blue\", \"green\", \"yellow\", \"purple\", \"orange\", \"white\", \"black\"],\n",
        "    \"countries\": [\"egypt\", \"canada\", \"brazil\", \"germany\", \"japan\", \"india\", \"france\", \"spain\"],\n",
        "    \"sports\": [\"football\", \"basketball\", \"tennis\", \"cricket\", \"volleyball\", \"hockey\", \"swimming\"],\n",
        "    \"programming\": [\"python\", \"java\", \"flutter\", \"variable\", \"loop\", \"function\", \"class\", \"debug\"],\n",
        "    \"school subjects\": [\"math\", \"science\", \"history\", \"geography\", \"english\", \"chemistry\", \"physics\", \"art\"],\n",
        "    \"jobs\": [\"doctor\", \"teacher\", \"engineer\", \"nurse\", \"pilot\", \"chef\", \"lawyer\", \"police\"],\n",
        "    \"body parts\": [\"head\", \"shoulder\", \"knee\", \"eye\", \"nose\", \"ear\", \"mouth\", \"hand\"],\n",
        "    \"weather\": [\"rain\", \"sunny\", \"cloudy\", \"windy\", \"storm\", \"snow\", \"fog\", \"thunder\"]\n",
        "  }\n",
        "  topic = random.choice(list(word_topics.keys()))\n",
        "  word = random.choice(word_topics[topic])\n",
        "  global allowed_tries\n",
        "  allowed_tries = 2 * len(word)\n",
        "  return word"
      ]
    },
    {
      "cell_type": "code",
      "execution_count": null,
      "metadata": {
        "colab": {
          "base_uri": "https://localhost:8080/"
        },
        "id": "DUyOQ1s62ew1",
        "outputId": "3b316b52-4348-4f03-bba6-db0bb0fbee57"
      },
      "outputs": [
        {
          "name": "stdout",
          "output_type": "stream",
          "text": [
            "swimming\n"
          ]
        }
      ],
      "source": [
        "print(choose_word())"
      ]
    },
    {
      "cell_type": "markdown",
      "metadata": {
        "id": "SSmUMNMP20Xa"
      },
      "source": [
        "## Word Display"
      ]
    },
    {
      "cell_type": "code",
      "execution_count": null,
      "metadata": {
        "id": "T-6bb7vf22jP"
      },
      "outputs": [],
      "source": [
        "def display_word(word, guessed_letters):\n",
        "  for letter in word:\n",
        "    if letter in guessed_letters:\n",
        "      print(letter, end='')\n",
        "    else:\n",
        "      print('_', end='')"
      ]
    },
    {
      "cell_type": "code",
      "execution_count": null,
      "metadata": {
        "colab": {
          "base_uri": "https://localhost:8080/"
        },
        "id": "pO1h2JBE3jrh",
        "outputId": "93559260-df9a-4847-d6dd-5bf2d72d12e6"
      },
      "outputs": [
        {
          "name": "stdout",
          "output_type": "stream",
          "text": [
            "b_n_n_"
          ]
        }
      ],
      "source": [
        "display_word(\"banana\", ['b', 'n'])"
      ]
    },
    {
      "cell_type": "markdown",
      "metadata": {
        "id": "KjSA9fv38vLN"
      },
      "source": [
        "## Start Message"
      ]
    },
    {
      "cell_type": "code",
      "execution_count": null,
      "metadata": {
        "id": "Mm9qQnrF8zUQ"
      },
      "outputs": [],
      "source": [
        "def start_message():\n",
        "  print('🌟 Welcome to Word Guess! 🌟')\n",
        "  print(f'''How to play:\n",
        "1.I pick a word (like \"cat\" 🐱 or \"book\" 📖).\n",
        "2.You guess letters one by one.\n",
        "3.You get {allowed_tries} tries!\n",
        "  ''')"
      ]
    },
    {
      "cell_type": "code",
      "execution_count": null,
      "metadata": {
        "colab": {
          "base_uri": "https://localhost:8080/"
        },
        "id": "tzY1uqT981ml",
        "outputId": "d4a1f370-2205-4d88-87d4-3fa79232d48a"
      },
      "outputs": [
        {
          "name": "stdout",
          "output_type": "stream",
          "text": [
            "🌟 Welcome to Word Guess! 🌟\n",
            "How to play:\n",
            "1.I pick a word (like \"cat\" 🐱 or \"book\" 📖).\n",
            "2.You guess letters one by one.\n",
            "3.You get 16 tries!\n",
            "  \n"
          ]
        }
      ],
      "source": [
        "start_message()"
      ]
    },
    {
      "cell_type": "markdown",
      "metadata": {
        "id": "nLSKKmR84bOv"
      },
      "source": [
        "## User Input"
      ]
    },
    {
      "cell_type": "code",
      "execution_count": null,
      "metadata": {
        "id": "1eMUyOKj4dCV"
      },
      "outputs": [],
      "source": [
        "def guess_word():\n",
        "  word = choose_word()\n",
        "  guessed_letters = set()\n",
        "  tries = 0\n",
        "  start_message()\n",
        "  while True:\n",
        "    guess = input('Guess a letter (a-z): ')\n",
        "    tries += 1\n",
        "    if guess in word:\n",
        "      print('Correct guess ✅')\n",
        "      print(f'Nice! \"{guess}\" is in the word!')\n",
        "      guessed_letters.add(guess)\n",
        "    else:\n",
        "      print('Wrong guess ❌')\n",
        "      print(f'Oops! \"{guess}\" is wrong.')\n",
        "    display_word(word, guessed_letters)\n",
        "    if len(guessed_letters) == len(set(word)):\n",
        "      print(f'You win! 🎉:')\n",
        "      print(f'YAY! The word was \"{word}\"! You won with {allowed_tries - tries} tries left! 🏆')\n",
        "      break\n",
        "    elif tries == allowed_tries:\n",
        "      print('You lose 😢:')\n",
        "      print(f'Game over! The word was \"{word}\". Try again! ♻️')\n",
        "      break"
      ]
    },
    {
      "cell_type": "code",
      "execution_count": null,
      "metadata": {
        "colab": {
          "base_uri": "https://localhost:8080/"
        },
        "id": "VEFgp83-AHVa",
        "outputId": "1ab6d82f-dad5-4ff9-cbb0-dd85d88e99c6"
      },
      "outputs": [
        {
          "name": "stdout",
          "output_type": "stream",
          "text": [
            "🌟 Welcome to Word Guess! 🌟\n",
            "How to play:\n",
            "1.I pick a word (like \"cat\" 🐱 or \"book\" 📖).\n",
            "2.You guess letters one by one.\n",
            "3.You get 16 tries!\n",
            "  \n",
            "Guess a letter (a-z): t\n",
            "Wrong guess ❌\n",
            "Oops! \"t\" is wrong.\n",
            "________Guess a letter (a-z): u\n",
            "Wrong guess ❌\n",
            "Oops! \"u\" is wrong.\n",
            "________Guess a letter (a-z): i\n",
            "Correct guess ✅\n",
            "Nice! \"i\" is in the word!\n",
            "___i____Guess a letter (a-z): o\n",
            "Wrong guess ❌\n",
            "Oops! \"o\" is wrong.\n",
            "___i____Guess a letter (a-z): p\n",
            "Wrong guess ❌\n",
            "Oops! \"p\" is wrong.\n",
            "___i____Guess a letter (a-z): m\n",
            "Wrong guess ❌\n",
            "Oops! \"m\" is wrong.\n",
            "___i____Guess a letter (a-z): d\n",
            "Wrong guess ❌\n",
            "Oops! \"d\" is wrong.\n",
            "___i____Guess a letter (a-z): e\n",
            "Correct guess ✅\n",
            "Nice! \"e\" is in the word!\n",
            "e__i_ee_Guess a letter (a-z): n\n",
            "Correct guess ✅\n",
            "Nice! \"n\" is in the word!\n",
            "en_inee_Guess a letter (a-z): g\n",
            "Correct guess ✅\n",
            "Nice! \"g\" is in the word!\n",
            "enginee_Guess a letter (a-z): r\n",
            "Correct guess ✅\n",
            "Nice! \"r\" is in the word!\n",
            "engineerYou win! 🎉:\n",
            "YAY! The word was \"engineer\"! You won with 5 tries left! 🏆\n"
          ]
        }
      ],
      "source": [
        "guess_word()"
      ]
    }
  ],
  "metadata": {
    "colab": {
      "provenance": []
    },
    "kernelspec": {
      "display_name": "base",
      "language": "python",
      "name": "python3"
    },
    "language_info": {
      "codemirror_mode": {
        "name": "ipython",
        "version": 3
      },
      "file_extension": ".py",
      "mimetype": "text/x-python",
      "name": "python",
      "nbconvert_exporter": "python",
      "pygments_lexer": "ipython3",
      "version": "3.9.12"
    }
  },
  "nbformat": 4,
  "nbformat_minor": 0
}
