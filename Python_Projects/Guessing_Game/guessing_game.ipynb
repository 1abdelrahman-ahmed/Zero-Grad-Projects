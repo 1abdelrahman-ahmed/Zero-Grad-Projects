{
  "nbformat": 4,
  "nbformat_minor": 0,
  "metadata": {
    "colab": {
      "provenance": [],
      "collapsed_sections": [
        "1NMnTuFU4XF3",
        "GsE-z7Son-xm",
        "ZaIwkooboJ5p",
        "OjfyXPCeoQM4"
      ]
    },
    "kernelspec": {
      "name": "python3",
      "display_name": "Python 3"
    },
    "language_info": {
      "name": "python"
    }
  },
  "cells": [
    {
      "cell_type": "markdown",
      "source": [
        "# Guessing Game Project Description"
      ],
      "metadata": {
        "id": "1NMnTuFU4XF3"
      }
    },
    {
      "cell_type": "markdown",
      "source": [
        "* **`First: You ask the user to set the game level:`**\n",
        "  * *(1) Easy*:\n",
        "    * Limits : [1 - 10]  \n",
        "    * No. of trials : 3\n",
        "  * *(2) Intermediate*:\n",
        "    * Limits : [1 - 100]\n",
        "    * No. of trials : 7\n",
        "  * *(3) Hard* :  \n",
        "    * Limits : [1 - 1000]\n",
        "    * No. of trials : 15\n",
        "\n",
        "* **`Second: set the game settings according to the game level:`**\n",
        "  * set the `guess` to a number within the limits using `random` module\n",
        "  * set the number of trials: `n_trials`\n",
        "\n",
        "* **`Finally: Play the game:`**\n",
        "  * Ask the user to guess the number:\n",
        "    * If he guessed it successfully : `print('Congratulations, you achieved it in {user_trials} trial') `\n",
        "    * if he failed:\n",
        "      * user_trials < n_trials: till him (Increase) or (Decrease)\n",
        "      * user_trials = n_trials: `print('You Lose!')`"
      ],
      "metadata": {
        "id": "7uon2S-n4XF3"
      }
    },
    {
      "cell_type": "markdown",
      "source": [
        "## Project Description"
      ],
      "metadata": {
        "id": "PhpgbWHJhJOW"
      }
    },
    {
      "cell_type": "markdown",
      "source": [
        "* **`First: You ask the user to set the game level:`**\n",
        "  * *(1) Easy*:\n",
        "    * Limits : [1 - 10]  \n",
        "    * No. of trials : 3\n",
        "  * *(2) Intermediate*:\n",
        "    * Limits : [1 - 100]\n",
        "    * No. of trials : 7\n",
        "  * *(3) Hard* :  \n",
        "    * Limits : [1 - 1000]\n",
        "    * No. of trials : 15\n",
        "\n",
        "* **`Second: start the game according to the game level:`**\n",
        "  * set the `guess` to a number within the limits using `random` module\n",
        "  * set the number of trials: `n_trials`\n",
        "\n",
        "* **`Finally: start the game:`**\n",
        "  * Ask the user to guess the number:\n",
        "    * If he guessed it successfully : `print('Congratulations, you achieved it in {user_trials} trial') `\n",
        "    * if he failed:\n",
        "      * user_trials < n_trials: give him another trial within\n",
        "      * user_trials = n_trials: `print('You Lose!')`"
      ],
      "metadata": {
        "id": "9XJyp9xehPBl"
      }
    },
    {
      "cell_type": "code",
      "source": [],
      "metadata": {
        "id": "we7UkC6AhFwy"
      },
      "execution_count": null,
      "outputs": []
    },
    {
      "cell_type": "markdown",
      "source": [
        "# Template of Solution"
      ],
      "metadata": {
        "id": "m2nflmTioFy_"
      }
    },
    {
      "cell_type": "markdown",
      "source": [
        "## Show the game levels"
      ],
      "metadata": {
        "id": "GsE-z7Son-xm"
      }
    },
    {
      "cell_type": "code",
      "source": [
        "def show_levels():\n",
        "  # write your code here\n",
        "  print('''\n",
        "╔═════════════════════════════════════════════╗\n",
        "║                     ▪[GAME LEVELS]▪                  ║\n",
        "╠═════════════════════════════════════════════╣\n",
        "║ (1) Easy           ║ 📏 Range  : [1 - 10]           ║\n",
        "║                    ║ 🎯 Trials : 3                  ║\n",
        "╠═════════════════════════════════════════════╣\n",
        "║ (2) Intermediate   ║ 📏 Range  : [1 - 100]          ║\n",
        "║                    ║ 🎯 Trials : 7                  ║\n",
        "╠═════════════════════════════════════════════╣\n",
        "║ (3) Hard           ║ 📏 Range  : [1 - 1000]         ║\n",
        "║                    ║ 🎯 Trials : 15                 ║\n",
        "╚═════════════════════════════════════════════╝\n",
        "''')"
      ],
      "metadata": {
        "id": "YueCJNtPnndY"
      },
      "execution_count": null,
      "outputs": []
    },
    {
      "cell_type": "markdown",
      "source": [
        "## Ask the user for the game level"
      ],
      "metadata": {
        "id": "ZaIwkooboJ5p"
      }
    },
    {
      "cell_type": "code",
      "source": [
        "def game_level_choice():\n",
        "  # write your code here\n",
        "  print('''\n",
        "Enter the game level:\n",
        "  ➤ (1) Easy\n",
        "  ➤ (2) Intermediate\n",
        "  ➤ (3) Hard\n",
        "''')\n",
        "  game_level = input()\n",
        "  return game_level"
      ],
      "metadata": {
        "id": "ciabphtW4nB1"
      },
      "execution_count": null,
      "outputs": []
    },
    {
      "cell_type": "markdown",
      "source": [
        "## Set the game settings according to the game level:\n"
      ],
      "metadata": {
        "id": "OjfyXPCeoQM4"
      }
    },
    {
      "cell_type": "code",
      "source": [
        "def set_game_settings(game_level):\n",
        "  # write your code here\n",
        "  level_details = {\n",
        "      '1': [10, 3],\n",
        "      '2': [100, 7],\n",
        "      '3': [1000, 15],\n",
        "  }\n",
        "  limits = level_details[game_level][0]\n",
        "  n_trials = level_details[game_level][1]\n",
        "  return limits, n_trials"
      ],
      "metadata": {
        "id": "NTxJ1qsJmhoG"
      },
      "execution_count": null,
      "outputs": []
    },
    {
      "cell_type": "markdown",
      "source": [
        "## Start Playing"
      ],
      "metadata": {
        "id": "97c-Ofv1o522"
      }
    },
    {
      "cell_type": "markdown",
      "source": [
        "> Hint: to generate random number in some range:\n",
        "\n",
        "`import random`\n",
        "\n",
        "`num = random.randint(lower, upper)`\n",
        "\n",
        " or\n",
        "\n",
        " `num = random.choice(range(lower, upper))`\n"
      ],
      "metadata": {
        "id": "bwXcWa3bUREY"
      }
    },
    {
      "cell_type": "code",
      "source": [
        "import random\n",
        "def start_play(limits, n_trials):\n",
        "  # write your code here\n",
        "  num = random.randint(1, limits)\n",
        "  trials = 0\n",
        "  while trials < n_trials:\n",
        "    trials += 1\n",
        "    x = int(input('🎯 Guess the hidden number: '))\n",
        "    if x == num:\n",
        "      print(f'🎉 Congratulations! You got it in {trials} trials! 🏆')\n",
        "      return\n",
        "    elif x < num:\n",
        "      print('❌ Nope, try a higher number!')\n",
        "    else:\n",
        "      print('❌ Nope, try a lower number!')\n",
        "  print(f'😔 Oh no! You\\'ve run out of trials. The number was {num}.\\n🔄 Try again to beat the game! 💪')"
      ],
      "metadata": {
        "id": "wz6TkIcTo1Jl"
      },
      "execution_count": null,
      "outputs": []
    },
    {
      "cell_type": "markdown",
      "source": [
        "## Let's Play"
      ],
      "metadata": {
        "id": "uI9u-XGV2S7P"
      }
    },
    {
      "cell_type": "code",
      "source": [
        "def play():\n",
        "  show_levels()\n",
        "  game_level = game_level_choice()\n",
        "  limits, n_trials = set_game_settings(game_level)\n",
        "  start_play(limits, n_trials)"
      ],
      "metadata": {
        "id": "4nIAPOhSpksM"
      },
      "execution_count": null,
      "outputs": []
    },
    {
      "cell_type": "code",
      "source": [
        "play()"
      ],
      "metadata": {
        "colab": {
          "base_uri": "https://localhost:8080/"
        },
        "id": "7m9ENdZp1Ffg",
        "outputId": "cc13f16b-452b-4918-be8b-8379a9039003"
      },
      "execution_count": null,
      "outputs": [
        {
          "output_type": "stream",
          "name": "stdout",
          "text": [
            "\n",
            "╔═════════════════════════════════════════════╗\n",
            "║                     ▪[GAME LEVELS]▪                  ║\n",
            "╠═════════════════════════════════════════════╣\n",
            "║ (1) Easy           ║ 📏 Range  : [1 - 10]           ║\n",
            "║                    ║ 🎯 Trials : 3                  ║\n",
            "╠═════════════════════════════════════════════╣\n",
            "║ (2) Intermediate   ║ 📏 Range  : [1 - 100]          ║\n",
            "║                    ║ 🎯 Trials : 7                  ║\n",
            "╠═════════════════════════════════════════════╣\n",
            "║ (3) Hard           ║ 📏 Range  : [1 - 1000]         ║\n",
            "║                    ║ 🎯 Trials : 15                 ║\n",
            "╚═════════════════════════════════════════════╝\n",
            "\n",
            "\n",
            "Enter the game level:\n",
            "  ➤ (1) Easy\n",
            "  ➤ (2) Intermediate\n",
            "  ➤ (3) Hard\n",
            "\n",
            "3\n",
            "🎯 Guess the hidden number: 500\n",
            "❌ Nope, try a lower number!\n",
            "🎯 Guess the hidden number: 250\n",
            "❌ Nope, try a higher number!\n",
            "🎯 Guess the hidden number: 375\n",
            "❌ Nope, try a higher number!\n",
            "🎯 Guess the hidden number: 437\n",
            "❌ Nope, try a lower number!\n",
            "🎯 Guess the hidden number: 406\n",
            "❌ Nope, try a lower number!\n",
            "🎯 Guess the hidden number: 390\n",
            "❌ Nope, try a higher number!\n",
            "🎯 Guess the hidden number: 398\n",
            "🎉 Congratulations! You got it in 7 trials! 🏆\n"
          ]
        }
      ]
    },
    {
      "cell_type": "code",
      "source": [
        "play()"
      ],
      "metadata": {
        "id": "O911u9mL3Akr",
        "colab": {
          "base_uri": "https://localhost:8080/"
        },
        "outputId": "dbb5ad85-6fd4-46a3-ab00-2256e6a99193"
      },
      "execution_count": null,
      "outputs": [
        {
          "output_type": "stream",
          "name": "stdout",
          "text": [
            "\n",
            "╔═════════════════════════════════════════════╗\n",
            "║                     ▪[GAME LEVELS]▪                  ║\n",
            "╠═════════════════════════════════════════════╣\n",
            "║ (1) Easy           ║ 📏 Range  : [1 - 10]           ║\n",
            "║                    ║ 🎯 Trials : 3                  ║\n",
            "╠═════════════════════════════════════════════╣\n",
            "║ (2) Intermediate   ║ 📏 Range  : [1 - 100]          ║\n",
            "║                    ║ 🎯 Trials : 7                  ║\n",
            "╠═════════════════════════════════════════════╣\n",
            "║ (3) Hard           ║ 📏 Range  : [1 - 1000]         ║\n",
            "║                    ║ 🎯 Trials : 15                 ║\n",
            "╚═════════════════════════════════════════════╝\n",
            "\n",
            "\n",
            "Enter the game level:\n",
            "  ➤ (1) Easy\n",
            "  ➤ (2) Intermediate\n",
            "  ➤ (3) Hard\n",
            "\n",
            "1\n",
            "🎯 Guess the hidden number: 1\n",
            "❌ Nope, try a higher number!\n",
            "🎯 Guess the hidden number: 1\n",
            "❌ Nope, try a higher number!\n",
            "🎯 Guess the hidden number: 1\n",
            "❌ Nope, try a higher number!\n",
            "😔 Oh no! You've run out of trials. The number was 3.\n",
            "🔄 Try again to beat the game! 💪\n"
          ]
        }
      ]
    }
  ]
}